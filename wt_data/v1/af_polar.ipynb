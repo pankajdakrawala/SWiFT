{
 "cells": [
  {
   "cell_type": "code",
   "execution_count": 41,
   "metadata": {
    "collapsed": true
   },
   "outputs": [],
   "source": [
    "import os\n",
    "import numpy as np\n",
    "import pandas as pd\n",
    "import csv"
   ]
  },
  {
   "cell_type": "code",
   "execution_count": 42,
   "metadata": {
    "collapsed": true
   },
   "outputs": [],
   "source": [
    "airfoils = [\"AD_1_cylinder\",\n",
    "            \"AD_2_63-235_mod\", \n",
    "            \"AD_3-63-224_mod\",\n",
    "            \"AD_4-63-218_mod\",\n",
    "            \"AD_5_63-214_mod\"]"
   ]
  },
  {
   "cell_type": "code",
   "execution_count": 43,
   "metadata": {
    "collapsed": false
   },
   "outputs": [
    {
     "name": "stdout",
     "output_type": "stream",
     "text": [
      "airfoil: Raw_model\\AD_1_cylinder.csv\n",
      "airfoil: Raw_model\\AD_2_63-235_mod.csv\n",
      "airfoil: Raw_model\\AD_3-63-224_mod.csv\n",
      "airfoil: Raw_model\\AD_4-63-218_mod.csv\n",
      "airfoil: Raw_model\\AD_5_63-214_mod.csv\n"
     ]
    }
   ],
   "source": [
    "for i in range(len(airfoils)):\n",
    "    af = os.path.join(\"Raw_model\", airfoils[i]+\".csv\")\n",
    "    print (\"airfoil: %s\"%af)\n",
    "    polar = pd.read_csv(af, sep='\\s+', skiprows=1,\n",
    "                         names=['aoa', 'cl', 'cd','cm'])\n",
    "    #print(polar)\n",
    "    outfile = os.path.join(\"Raw_model\", airfoils[i]+ \"_FOAM\" + \".txt\")\n",
    "    with open(outfile, 'w') as fh:\n",
    "        for j in range(len(polar)):\n",
    "            fh.write(\" %6.1f \"%(float(polar['aoa'][j])))\n",
    "    with open(outfile, 'a') as fh:\n",
    "        for j in range(len(polar)):\n",
    "            fh.write(\"    ( %10.4f  %10.4f %10.4f)\\n\"%(float(polar['cl'][j]), float(polar['cd'][j]), float(polar['cm'][j])))\n",
    "    "
   ]
  }
 ],
 "metadata": {
  "kernelspec": {
   "display_name": "Python 3",
   "language": "python",
   "name": "python3"
  },
  "language_info": {
   "codemirror_mode": {
    "name": "ipython",
    "version": 3
   },
   "file_extension": ".py",
   "mimetype": "text/x-python",
   "name": "python",
   "nbconvert_exporter": "python",
   "pygments_lexer": "ipython3",
   "version": "3.6.0"
  }
 },
 "nbformat": 4,
 "nbformat_minor": 2
}
