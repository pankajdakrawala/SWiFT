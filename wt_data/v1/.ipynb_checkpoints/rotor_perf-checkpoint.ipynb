{
 "cells": [
  {
   "cell_type": "code",
   "execution_count": 1,
   "metadata": {
    "collapsed": true
   },
   "outputs": [],
   "source": [
    "import os\n",
    "import numpy as np\n",
    "import pandas as pd\n",
    "import csv"
   ]
  },
  {
   "cell_type": "code",
   "execution_count": 2,
   "metadata": {
    "collapsed": false
   },
   "outputs": [
    {
     "ename": "NameError",
     "evalue": "name 'RotorPerformances_OF2' is not defined",
     "output_type": "error",
     "traceback": [
      "\u001b[0;31m---------------------------------------------------------------------------\u001b[0m",
      "\u001b[0;31mNameError\u001b[0m                                 Traceback (most recent call last)",
      "\u001b[0;32m<ipython-input-2-243bc74abc6c>\u001b[0m in \u001b[0;36m<module>\u001b[0;34m()\u001b[0m\n\u001b[0;32m----> 1\u001b[0;31m \u001b[0mperf_file\u001b[0m \u001b[1;33m=\u001b[0m \u001b[0mos\u001b[0m\u001b[1;33m.\u001b[0m\u001b[0mpath\u001b[0m\u001b[1;33m.\u001b[0m\u001b[0mjoin\u001b[0m\u001b[1;33m(\u001b[0m\u001b[1;34m\"Simulated_data\"\u001b[0m\u001b[1;33m,\u001b[0m \u001b[0mRotorPerformances_OF2\u001b[0m \u001b[1;33m+\u001b[0m\u001b[1;34m\".csv\"\u001b[0m\u001b[1;33m)\u001b[0m\u001b[1;33m\u001b[0m\u001b[0m\n\u001b[0m\u001b[1;32m      2\u001b[0m polar = pd.read_csv(perf_file, sep='\\s+', skiprows=1,\n\u001b[1;32m      3\u001b[0m                      names=['aoa', 'cl', 'cd','cm'])\n\u001b[1;32m      4\u001b[0m \u001b[0mprint\u001b[0m\u001b[1;33m(\u001b[0m\u001b[0mpolar\u001b[0m\u001b[1;33m)\u001b[0m\u001b[1;33m\u001b[0m\u001b[0m\n",
      "\u001b[0;31mNameError\u001b[0m: name 'RotorPerformances_OF2' is not defined"
     ]
    }
   ],
   "source": [
    "perf_file = os.path.join(\"Simulated_data\", \"RotorPerformances_OF2\" +\".csv\")\n",
    "polar = pd.read_csv(perf_file, sep='\\s+', skiprows=1,\n",
    "                     names=['aoa', 'cl', 'cd','cm'])\n",
    "print(polar)\n"
   ]
  },
  {
   "cell_type": "code",
   "execution_count": null,
   "metadata": {
    "collapsed": true
   },
   "outputs": [],
   "source": [
    "outfile = os.path.join(\"Raw_model\", airfoils[i]+ \"_FOAM\" + \".txt\")\n",
    "with open(outfile, 'w') as fh:\n",
    "    for j in range(len(polar)):\n",
    "        fh.write(\" %6.1f \"%(float(polar['aoa'][j])))\n",
    "with open(outfile, 'a') as fh:\n",
    "    for j in range(len(polar)):\n",
    "        fh.write(\"    ( %10.4f  %10.4f %10.4f)\\n\"%(float(polar['cl'][j]), float(polar['cd'][j]), float(polar['cm'][j])))\n"
   ]
  }
 ],
 "metadata": {
  "kernelspec": {
   "display_name": "Python 3",
   "language": "python",
   "name": "python3"
  },
  "language_info": {
   "codemirror_mode": {
    "name": "ipython",
    "version": 3
   },
   "file_extension": ".py",
   "mimetype": "text/x-python",
   "name": "python",
   "nbconvert_exporter": "python",
   "pygments_lexer": "ipython3",
   "version": "3.6.0"
  }
 },
 "nbformat": 4,
 "nbformat_minor": 2
}
