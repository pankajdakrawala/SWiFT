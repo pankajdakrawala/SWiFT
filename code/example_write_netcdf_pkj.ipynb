{
 "cells": [
  {
   "cell_type": "code",
   "execution_count": 1,
   "metadata": {},
   "outputs": [],
   "source": [
    "import os\n",
    "import numpy as np\n",
    "import pandas as pd\n",
    "import xarray\n",
    "%matplotlib inline"
   ]
  },
  {
   "cell_type": "markdown",
   "metadata": {},
   "source": [
    "# Load GWCFD data"
   ]
  },
  {
   "cell_type": "markdown",
   "metadata": {},
   "source": [
    "## Load the veritical profiles"
   ]
  },
  {
   "cell_type": "code",
   "execution_count": 2,
   "metadata": {},
   "outputs": [],
   "source": [
    "ablType = 'unstable'\n",
    "simNomenclature = '5b'\n",
    "vertLine = pd.read_csv('../../post_pro/turbine_'+ ablType+ simNomenclature+ '/lines/M01_U.xy',\n",
    "                    sep='\\s+', skiprows=0, names=['z', 'U', 'V', 'W'])\n",
    "#print (vertLine)"
   ]
  },
  {
   "cell_type": "code",
   "execution_count": 3,
   "metadata": {
    "collapsed": true
   },
   "outputs": [],
   "source": [
    "\n",
    "### The coordinates"
   ]
  },
  {
   "cell_type": "code",
   "execution_count": 4,
   "metadata": {
    "collapsed": true
   },
   "outputs": [],
   "source": [
    "D    = 27.0\n",
    "x    = -2.5\n",
    "nx   = 1\n",
    "ny   = 3\n",
    "nz   = len(vertLine)\n",
    "nt   = 1"
   ]
  },
  {
   "cell_type": "code",
   "execution_count": 5,
   "metadata": {},
   "outputs": [
    {
     "name": "stdout",
     "output_type": "stream",
     "text": [
      "[-67.5]\n",
      "[-1.0, 0.0, 1.0]\n",
      "[2000]\n"
     ]
    }
   ],
   "source": [
    "x_1d = np.zeros((nx)) + x*D\n",
    "y_1d = [-1.0, 0.0, 1.0]\n",
    "z_1d = vertLine['z']\n",
    "t_1d = [2000]\n",
    "print (x_1d)\n",
    "print (y_1d)\n",
    "#print (z_1d)\n",
    "print (t_1d)\n",
    "Ux =  vertLine['V'] # Note that axial direction is along +y\n",
    "Uy = -vertLine['U'] # spanwise is along -x\n",
    "Uz =  vertLine['W']\n",
    "#print (Ux)\n",
    "#print (Uy)\n",
    "#print (Uz)"
   ]
  },
  {
   "cell_type": "markdown",
   "metadata": {},
   "source": [
    "### The velocities"
   ]
  },
  {
   "cell_type": "code",
   "execution_count": 6,
   "metadata": {
    "collapsed": true
   },
   "outputs": [],
   "source": [
    "U = np.zeros((nt,nx,ny,nz))\n",
    "V = np.zeros((nt,nx,ny,nz))\n",
    "W = np.zeros((nt,nx,ny,nz))"
   ]
  },
  {
   "cell_type": "code",
   "execution_count": 7,
   "metadata": {},
   "outputs": [],
   "source": [
    "#print (U[0][0][0])\n",
    "#print (U[0][0][1][1:5])"
   ]
  },
  {
   "cell_type": "code",
   "execution_count": 8,
   "metadata": {},
   "outputs": [
    {
     "name": "stdout",
     "output_type": "stream",
     "text": [
      "[4.89787295e-13 3.83448305e+00 4.36152513e+00 ... 9.52941970e+00\n",
      " 9.52944247e+00 9.52943609e+00]\n",
      "[3.83448305 4.36152513 4.68486958 4.91053228]\n",
      "[-2.99908221e-29 -9.15733344e-02 -9.94437948e-02 ...  9.33019683e-04\n",
      "  9.31805263e-04  9.30163757e-04]\n",
      "[-0.09157333 -0.09944379 -0.10477778 -0.10697894]\n",
      "[0.00000000e+00 1.11838276e-02 7.71909476e-03 ... 1.09138458e-04\n",
      " 6.05741040e-05 1.98132058e-14]\n",
      "[0.01118383 0.00771909 0.00826087 0.00663368]\n"
     ]
    }
   ],
   "source": [
    "U[0][0][0:ny] = Ux\n",
    "V[0][0][0:ny] = Uy\n",
    "W[0][0][0:ny] = Uz\n",
    "print (U[0][0][0])\n",
    "print (U[0][0][0][1:5])\n",
    "print (V[0][0][0])\n",
    "print (V[0][0][0][1:5])\n",
    "print (W[0][0][0])\n",
    "print (W[0][0][0][1:5])"
   ]
  },
  {
   "cell_type": "code",
   "execution_count": 9,
   "metadata": {},
   "outputs": [
    {
     "name": "stdout",
     "output_type": "stream",
     "text": [
      "Shape of U is (1, 1, 3, 3000)\n",
      "Shape of V is (1, 1, 3, 3000)\n",
      "Shape of W is (1, 1, 3, 3000)\n"
     ]
    }
   ],
   "source": [
    "print(\"Shape of U is {0}\".format(U.shape))\n",
    "print(\"Shape of V is {0}\".format(V.shape))\n",
    "print(\"Shape of W is {0}\".format(W.shape))"
   ]
  },
  {
   "cell_type": "markdown",
   "metadata": {},
   "source": [
    "# Use xarray to create DataArrays, then Dataset"
   ]
  },
  {
   "cell_type": "code",
   "execution_count": 10,
   "metadata": {},
   "outputs": [],
   "source": [
    "U = xarray.DataArray(data=U, \n",
    "                     dims=(\"t\",\"x\",\"y\",\"z\"), \n",
    "                     coords={\"t\":t_1d,\"x\":x_1d,\"y\":y_1d,\"z\":z_1d}, \n",
    "                     name=\"U\",\n",
    "                     attrs={\"long_name\":\"streamwise wind component\",\"units\":\"m/s\"})"
   ]
  },
  {
   "cell_type": "code",
   "execution_count": 11,
   "metadata": {
    "collapsed": true
   },
   "outputs": [],
   "source": [
    "V = xarray.DataArray(data=V, \n",
    "                     dims=(\"t\",\"x\",\"y\",\"z\"), \n",
    "                     coords={\"t\":t_1d,\"x\":x_1d,\"y\":y_1d,\"z\":z_1d}, \n",
    "                     name=\"V\",\n",
    "                     attrs={\"long_name\":\"cross-stream wind component\",\"units\":\"m/s\"})"
   ]
  },
  {
   "cell_type": "code",
   "execution_count": 12,
   "metadata": {
    "collapsed": true
   },
   "outputs": [],
   "source": [
    "W = xarray.DataArray(data=W, \n",
    "                     dims=(\"t\",\"x\",\"y\",\"z\"), \n",
    "                     coords={\"t\":t_1d,\"x\":x_1d,\"y\":y_1d,\"z\":z_1d}, \n",
    "                     name=\"W\",\n",
    "                     attrs={\"long_name\":\"vertical wind component\",\"units\":\"m/s\"})"
   ]
  },
  {
   "cell_type": "code",
   "execution_count": 13,
   "metadata": {
    "collapsed": true
   },
   "outputs": [],
   "source": [
    "dataset = xarray.Dataset(data_vars={\"U\":U,\"V\":V,\"W\":W})"
   ]
  },
  {
   "cell_type": "code",
   "execution_count": 14,
   "metadata": {},
   "outputs": [
    {
     "name": "stdout",
     "output_type": "stream",
     "text": [
      "<xarray.Dataset>\n",
      "Dimensions:  (t: 1, x: 1, y: 3, z: 3000)\n",
      "Coordinates:\n",
      "  * t        (t) int64 2000\n",
      "  * x        (x) float64 -67.5\n",
      "  * y        (y) float64 -1.0 0.0 1.0\n",
      "  * z        (z) float64 0.0 1.0 2.001 3.001 ... 2.998e+03 2.999e+03 3e+03\n",
      "Data variables:\n",
      "    U        (t, x, y, z) float64 4.898e-13 3.834 4.362 ... 9.529 9.529 9.529\n",
      "    V        (t, x, y, z) float64 -2.999e-29 -0.09157 ... 0.0009318 0.0009302\n",
      "    W        (t, x, y, z) float64 0.0 0.01118 0.007719 ... 6.057e-05 1.981e-14\n"
     ]
    }
   ],
   "source": [
    "print(dataset)"
   ]
  },
  {
   "cell_type": "markdown",
   "metadata": {},
   "source": [
    "# See what it looks like"
   ]
  },
  {
   "cell_type": "code",
   "execution_count": 15,
   "metadata": {},
   "outputs": [
    {
     "data": {
      "text/plain": [
       "<matplotlib.collections.QuadMesh at 0x7fbbddcb1e80>"
      ]
     },
     "execution_count": 15,
     "metadata": {},
     "output_type": "execute_result"
    },
    {
     "data": {
      "image/png": "[encoded data removed]",
      "text/plain": [
       "<matplotlib.figure.Figure at 0x7fbbeb1c5668>"
      ]
     },
     "metadata": {},
     "output_type": "display_data"
    }
   ],
   "source": [
    "xarray.plot.pcolormesh(U.loc[t_1d[0],x_1d[0],:,:])"
   ]
  },
  {
   "cell_type": "code",
   "execution_count": 16,
   "metadata": {},
   "outputs": [
    {
     "data": {
      "text/plain": [
       "<matplotlib.collections.QuadMesh at 0x7fbbddba5e10>"
      ]
     },
     "execution_count": 16,
     "metadata": {},
     "output_type": "execute_result"
    },
    {
     "data": {
      "image/png": "[encoded data removed]",
      "text/plain": [
       "<matplotlib.figure.Figure at 0x7fbbe5781cc0>"
      ]
     },
     "metadata": {},
     "output_type": "display_data"
    }
   ],
   "source": [
    "xarray.plot.pcolormesh(V.loc[t_1d[0],x_1d[0],:,:])"
   ]
  },
  {
   "cell_type": "code",
   "execution_count": 17,
   "metadata": {},
   "outputs": [
    {
     "data": {
      "text/plain": [
       "<matplotlib.collections.QuadMesh at 0x7fbbddad3278>"
      ]
     },
     "execution_count": 17,
     "metadata": {},
     "output_type": "execute_result"
    },
    {
     "data": {
      "image/png": "[encoded data removed]",
      "text/plain": [
       "<matplotlib.figure.Figure at 0x7fbbddb3f898>"
      ]
     },
     "metadata": {},
     "output_type": "display_data"
    }
   ],
   "source": [
    "xarray.plot.pcolormesh(W.loc[t_1d[0],x_1d[0],:,:])"
   ]
  },
  {
   "cell_type": "markdown",
   "metadata": {},
   "source": [
    "# Save as NetCDF"
   ]
  },
  {
   "cell_type": "code",
   "execution_count": 18,
   "metadata": {
    "collapsed": true
   },
   "outputs": [],
   "source": [
    "netcdf_path = os.path.join('../file_templates',ablType)\n",
    "if not os.path.exists(netcdf_path):\n",
    "        os.makedirs(netcdf_path)\n",
    "dataset.to_netcdf(path=os.path.join(netcdf_path,'ENVISION_OXLEY_RANS_20190118_uvw_-2.5D_steady_state.nc'),mode='w')"
   ]
  },
  {
   "cell_type": "code",
   "execution_count": null,
   "metadata": {
    "collapsed": true
   },
   "outputs": [],
   "source": []
  }
 ],
 "metadata": {
  "kernelspec": {
   "display_name": "Python 3",
   "language": "python",
   "name": "python3"
  },
  "language_info": {
   "codemirror_mode": {
    "name": "ipython",
    "version": 3
   },
   "file_extension": ".py",
   "mimetype": "text/x-python",
   "name": "python",
   "nbconvert_exporter": "python",
   "pygments_lexer": "ipython3",
   "version": "3.6.3"
  }
 },
 "nbformat": 4,
 "nbformat_minor": 2
}
