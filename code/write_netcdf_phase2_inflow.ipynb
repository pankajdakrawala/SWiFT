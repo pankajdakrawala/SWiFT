{
 "cells": [
  {
   "cell_type": "code",
   "execution_count": 1,
   "metadata": {},
   "outputs": [],
   "source": [
    "import os\n",
    "import matplotlib.pyplot as plt\n",
    "import numpy as np\n",
    "import pandas as pd\n",
    "import xarray\n",
    "%matplotlib inline"
   ]
  },
  {
   "cell_type": "markdown",
   "metadata": {},
   "source": [
    "# Load GWCFD data"
   ]
  },
  {
   "cell_type": "markdown",
   "metadata": {},
   "source": [
    "## Load the veritical profiles"
   ]
  },
  {
   "cell_type": "code",
   "execution_count": 2,
   "metadata": {
    "collapsed": true
   },
   "outputs": [],
   "source": [
    "D    = 27.0\n",
    "x    = '-2.5'"
   ]
  },
  {
   "cell_type": "code",
   "execution_count": 3,
   "metadata": {},
   "outputs": [
    {
     "name": "stdout",
     "output_type": "stream",
     "text": [
      "Reading file: ../../post_pro/turbine_neutral5b/lines/M01_U.xy\n"
     ]
    }
   ],
   "source": [
    "ablType = 'neutral'\n",
    "simNomenclature = '5b'\n",
    "fileToRead = '../../post_pro/turbine_'+ ablType+ simNomenclature+ '/lines/M01_U.xy'\n",
    "print (\"Reading file: %s\"%fileToRead)\n",
    "vertLine = pd.read_csv(fileToRead,\n",
    "                    sep='\\s+', skiprows=0, names=['z', 'U', 'V', 'W'])\n",
    "#print (vertLine)"
   ]
  },
  {
   "cell_type": "code",
   "execution_count": 4,
   "metadata": {
    "collapsed": true
   },
   "outputs": [],
   "source": [
    "### The coordinates"
   ]
  },
  {
   "cell_type": "code",
   "execution_count": 5,
   "metadata": {
    "collapsed": true
   },
   "outputs": [],
   "source": [
    "nx   = 1\n",
    "ny   = 2\n",
    "nz   = len(vertLine)\n",
    "nt   = 1"
   ]
  },
  {
   "cell_type": "code",
   "execution_count": 6,
   "metadata": {},
   "outputs": [
    {
     "name": "stdout",
     "output_type": "stream",
     "text": [
      "[-67.5]\n",
      "[0.0, 0.1]\n",
      "[2000]\n"
     ]
    }
   ],
   "source": [
    "x_1d = np.zeros((nx)) + float(x)*D\n",
    "y_1d = [0.0, 0.1]\n",
    "#y_1d = [0.0]\n",
    "z_1d = vertLine['z']\n",
    "t_1d = [2000]\n",
    "print (x_1d)\n",
    "print (y_1d)\n",
    "#print (z_1d)\n",
    "print (t_1d)\n",
    "Ux =  vertLine['V'] # Note that axial direction is along +y\n",
    "Uy = -vertLine['U'] # spanwise is along -x\n",
    "Uz =  vertLine['W']\n",
    "#print (Ux)\n",
    "#print (Uy)\n",
    "#print (Uz)"
   ]
  },
  {
   "cell_type": "code",
   "execution_count": 7,
   "metadata": {
    "collapsed": true
   },
   "outputs": [],
   "source": [
    "U = np.zeros((nt,nx,ny,nz))\n",
    "V = np.zeros((nt,nx,ny,nz))\n",
    "W = np.zeros((nt,nx,ny,nz))"
   ]
  },
  {
   "cell_type": "code",
   "execution_count": 8,
   "metadata": {
    "collapsed": true
   },
   "outputs": [],
   "source": [
    "#print (U[0][0][0])\n",
    "#print (U[0][0][1][1:5])"
   ]
  },
  {
   "cell_type": "code",
   "execution_count": 9,
   "metadata": {},
   "outputs": [
    {
     "name": "stdout",
     "output_type": "stream",
     "text": [
      "[6.04847119e-13 4.59962564e+00 5.33308777e+00 ... 1.35609664e+01\n",
      " 1.35609536e+01 1.35609534e+01]\n",
      "[4.59962564 5.33308777 5.78851365 6.1151627 ]\n",
      "[-3.70362044e-29 -1.05008511e-01 -1.16968001e-01 ...  3.46050954e-03\n",
      "  3.46088894e-03  3.46212081e-03]\n",
      "[-0.10500851 -0.116968   -0.12462706 -0.12743843]\n",
      "[0.00000000e+00 1.52289764e-02 1.07688425e-02 ... 1.48997455e-04\n",
      " 8.22990254e-05 2.69136208e-14]\n",
      "[0.01522898 0.01076884 0.01153414 0.00893812]\n"
     ]
    }
   ],
   "source": [
    "U[0][0][0:ny] = Ux\n",
    "V[0][0][0:ny] = Uy\n",
    "W[0][0][0:ny] = Uz\n",
    "print (U[0][0][0])\n",
    "print (U[0][0][0][1:5])\n",
    "print (V[0][0][0])\n",
    "print (V[0][0][0][1:5])\n",
    "print (W[0][0][0])\n",
    "print (W[0][0][0][1:5])"
   ]
  },
  {
   "cell_type": "code",
   "execution_count": 10,
   "metadata": {},
   "outputs": [
    {
     "name": "stdout",
     "output_type": "stream",
     "text": [
      "Shape of U is (1, 1, 2, 3000)\n",
      "Shape of V is (1, 1, 2, 3000)\n",
      "Shape of W is (1, 1, 2, 3000)\n"
     ]
    }
   ],
   "source": [
    "print(\"Shape of U is {0}\".format(U.shape))\n",
    "print(\"Shape of V is {0}\".format(V.shape))\n",
    "print(\"Shape of W is {0}\".format(W.shape))"
   ]
  },
  {
   "cell_type": "markdown",
   "metadata": {},
   "source": [
    "# Use xarray to create DataArrays, then Dataset"
   ]
  },
  {
   "cell_type": "markdown",
   "metadata": {},
   "source": [
    "### The velocities"
   ]
  },
  {
   "cell_type": "code",
   "execution_count": 11,
   "metadata": {
    "collapsed": true
   },
   "outputs": [],
   "source": [
    "U = xarray.DataArray(data=U, \n",
    "                     dims=(\"t\",\"x\",\"y\",\"z\"), \n",
    "                     coords={\"t\":t_1d,\"x\":x_1d,\"y\":y_1d,\"z\":z_1d}, \n",
    "                     name=\"U\",\n",
    "                     attrs={\"long_name\":\"streamwise wind component\",\"units\":\"m/s\"})"
   ]
  },
  {
   "cell_type": "code",
   "execution_count": 12,
   "metadata": {
    "collapsed": true
   },
   "outputs": [],
   "source": [
    "V = xarray.DataArray(data=V, \n",
    "                     dims=(\"t\",\"x\",\"y\",\"z\"), \n",
    "                     coords={\"t\":t_1d,\"x\":x_1d,\"y\":y_1d,\"z\":z_1d}, \n",
    "                     name=\"V\",\n",
    "                     attrs={\"long_name\":\"cross-stream wind component\",\"units\":\"m/s\"})"
   ]
  },
  {
   "cell_type": "code",
   "execution_count": 13,
   "metadata": {
    "collapsed": true
   },
   "outputs": [],
   "source": [
    "W = xarray.DataArray(data=W, \n",
    "                     dims=(\"t\",\"x\",\"y\",\"z\"), \n",
    "                     coords={\"t\":t_1d,\"x\":x_1d,\"y\":y_1d,\"z\":z_1d}, \n",
    "                     name=\"W\",\n",
    "                     attrs={\"long_name\":\"vertical wind component\",\"units\":\"m/s\"})"
   ]
  },
  {
   "cell_type": "code",
   "execution_count": 14,
   "metadata": {
    "collapsed": true
   },
   "outputs": [],
   "source": [
    "dataset = xarray.Dataset(data_vars={\"U\":U,\"V\":V,\"W\":W})"
   ]
  },
  {
   "cell_type": "code",
   "execution_count": 15,
   "metadata": {},
   "outputs": [
    {
     "name": "stdout",
     "output_type": "stream",
     "text": [
      "<xarray.Dataset>\n",
      "Dimensions:  (t: 1, x: 1, y: 2, z: 3000)\n",
      "Coordinates:\n",
      "  * t        (t) int64 2000\n",
      "  * x        (x) float64 -67.5\n",
      "  * y        (y) float64 0.0 0.1\n",
      "  * z        (z) float64 0.0 1.0 2.001 3.001 ... 2.998e+03 2.999e+03 3e+03\n",
      "Data variables:\n",
      "    U        (t, x, y, z) float64 6.048e-13 4.6 5.333 ... 13.56 13.56 13.56\n",
      "    V        (t, x, y, z) float64 -3.704e-29 -0.105 -0.117 ... 0.003461 0.003462\n",
      "    W        (t, x, y, z) float64 0.0 0.01523 0.01077 ... 8.23e-05 2.691e-14\n"
     ]
    }
   ],
   "source": [
    "print(dataset)"
   ]
  },
  {
   "cell_type": "markdown",
   "metadata": {},
   "source": [
    "# See what it looks like"
   ]
  },
  {
   "cell_type": "code",
   "execution_count": 16,
   "metadata": {},
   "outputs": [
    {
     "data": {
      "text/plain": [
       "[<matplotlib.lines.Line2D at 0x7ff32ed7bfd0>]"
      ]
     },
     "execution_count": 16,
     "metadata": {},
     "output_type": "execute_result"
    },
    {
     "data": {
      "image/png": "[encoded data removed]",
      "text/plain": [
       "<matplotlib.figure.Figure at 0x7ff3367d68d0>"
      ]
     },
     "metadata": {},
     "output_type": "display_data"
    }
   ],
   "source": [
    "plt.plot(U.loc[t_1d[0],x_1d[0],y_1d[0],:], z_1d)"
   ]
  },
  {
   "cell_type": "code",
   "execution_count": 17,
   "metadata": {},
   "outputs": [
    {
     "data": {
      "text/plain": [
       "[<matplotlib.lines.Line2D at 0x7ff32eca52b0>]"
      ]
     },
     "execution_count": 17,
     "metadata": {},
     "output_type": "execute_result"
    },
    {
     "data": {
      "image/png": "[encoded data removed]",
      "text/plain": [
       "<matplotlib.figure.Figure at 0x7ff32ed4bd30>"
      ]
     },
     "metadata": {},
     "output_type": "display_data"
    }
   ],
   "source": [
    "plt.plot(V.loc[t_1d[0],x_1d[0],y_1d[0],:], z_1d)"
   ]
  },
  {
   "cell_type": "code",
   "execution_count": 18,
   "metadata": {},
   "outputs": [
    {
     "data": {
      "text/plain": [
       "[<matplotlib.lines.Line2D at 0x7ff32ec0afd0>]"
      ]
     },
     "execution_count": 18,
     "metadata": {},
     "output_type": "execute_result"
    },
    {
     "data": {
      "image/png": "[encoded data removed]",
      "text/plain": [
       "<matplotlib.figure.Figure at 0x7ff32ecfefd0>"
      ]
     },
     "metadata": {},
     "output_type": "display_data"
    }
   ],
   "source": [
    "plt.plot(W.loc[t_1d[0],x_1d[0],y_1d[0],:], z_1d)"
   ]
  },
  {
   "cell_type": "code",
   "execution_count": 19,
   "metadata": {},
   "outputs": [
    {
     "data": {
      "text/plain": [
       "<matplotlib.collections.QuadMesh at 0x7ff32ebf1390>"
      ]
     },
     "execution_count": 19,
     "metadata": {},
     "output_type": "execute_result"
    },
    {
     "data": {
      "image/png": "[encoded data removed]",
      "text/plain": [
       "<matplotlib.figure.Figure at 0x7ff33a7942e8>"
      ]
     },
     "metadata": {},
     "output_type": "display_data"
    }
   ],
   "source": [
    "xarray.plot.pcolormesh(U.loc[t_1d[0],x_1d[0],:,:])"
   ]
  },
  {
   "cell_type": "code",
   "execution_count": 20,
   "metadata": {},
   "outputs": [
    {
     "data": {
      "text/plain": [
       "<matplotlib.collections.QuadMesh at 0x7ff32eb2f9e8>"
      ]
     },
     "execution_count": 20,
     "metadata": {},
     "output_type": "execute_result"
    },
    {
     "data": {
      "image/png": "[encoded data removed]",
      "text/plain": [
       "<matplotlib.figure.Figure at 0x7ff32ed02d68>"
      ]
     },
     "metadata": {},
     "output_type": "display_data"
    }
   ],
   "source": [
    "xarray.plot.pcolormesh(V.loc[t_1d[0],x_1d[0],:,:])"
   ]
  },
  {
   "cell_type": "code",
   "execution_count": 21,
   "metadata": {},
   "outputs": [
    {
     "data": {
      "text/plain": [
       "<matplotlib.collections.QuadMesh at 0x7ff32ea5d400>"
      ]
     },
     "execution_count": 21,
     "metadata": {},
     "output_type": "execute_result"
    },
    {
     "data": {
      "image/png": "[encoded data removed]",
      "text/plain": [
       "<matplotlib.figure.Figure at 0x7ff32eaf3f98>"
      ]
     },
     "metadata": {},
     "output_type": "display_data"
    }
   ],
   "source": [
    "xarray.plot.pcolormesh(W.loc[t_1d[0],x_1d[0],:,:])"
   ]
  },
  {
   "cell_type": "markdown",
   "metadata": {},
   "source": [
    "# Save as NetCDF"
   ]
  },
  {
   "cell_type": "code",
   "execution_count": 22,
   "metadata": {},
   "outputs": [],
   "source": [
    "netcdf_path = os.path.join('../files_submitted','Phase2',ablType,'vertLine')\n",
    "if not os.path.exists(netcdf_path):\n",
    "        os.makedirs(netcdf_path)\n",
    "dataset.to_netcdf(path=os.path.join(netcdf_path,'ENVISION_OXLEY_RANS_20190304_uvw_'+x+'D.nc'),mode='w')"
   ]
  },
  {
   "cell_type": "code",
   "execution_count": null,
   "metadata": {
    "collapsed": true
   },
   "outputs": [],
   "source": []
  }
 ],
 "metadata": {
  "kernelspec": {
   "display_name": "Python 3",
   "language": "python",
   "name": "python3"
  },
  "language_info": {
   "codemirror_mode": {
    "name": "ipython",
    "version": 3
   },
   "file_extension": ".py",
   "mimetype": "text/x-python",
   "name": "python",
   "nbconvert_exporter": "python",
   "pygments_lexer": "ipython3",
   "version": "3.6.3"
  }
 },
 "nbformat": 4,
 "nbformat_minor": 2
}
