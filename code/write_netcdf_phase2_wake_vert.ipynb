{
 "cells": [
  {
   "cell_type": "code",
   "execution_count": 1,
   "metadata": {
    "collapsed": true
   },
   "outputs": [],
   "source": [
    "import os\n",
    "import matplotlib.pyplot as plt\n",
    "import numpy as np\n",
    "import pandas as pd\n",
    "import xarray\n",
    "%matplotlib inline"
   ]
  },
  {
   "cell_type": "markdown",
   "metadata": {},
   "source": [
    "# Load GWCFD data"
   ]
  },
  {
   "cell_type": "markdown",
   "metadata": {},
   "source": [
    "## Load the veritical profiles"
   ]
  },
  {
   "cell_type": "code",
   "execution_count": 2,
   "metadata": {
    "collapsed": true
   },
   "outputs": [],
   "source": [
    "D    = 27.0\n",
    "x    = '1'"
   ]
  },
  {
   "cell_type": "code",
   "execution_count": 3,
   "metadata": {},
   "outputs": [
    {
     "name": "stdout",
     "output_type": "stream",
     "text": [
      "Reading file: ../../post_pro/turbine_unstable5b/lines/verLine_1D_U.xy\n"
     ]
    }
   ],
   "source": [
    "ablType = 'unstable'\n",
    "simNomenclature = '5b'\n",
    "fileToRead = '../../post_pro/turbine_'+ ablType+ simNomenclature+ '/lines/verLine_'+x+'D_U.xy'\n",
    "print (\"Reading file: %s\"%fileToRead)\n",
    "vertLine = pd.read_csv(fileToRead,\n",
    "                    sep='\\s+', skiprows=0, names=['z', 'U', 'V', 'W'])\n",
    "#print (vertLine)"
   ]
  },
  {
   "cell_type": "code",
   "execution_count": 4,
   "metadata": {
    "collapsed": true
   },
   "outputs": [],
   "source": [
    "### The coordinates"
   ]
  },
  {
   "cell_type": "code",
   "execution_count": 5,
   "metadata": {
    "collapsed": true
   },
   "outputs": [],
   "source": [
    "nx   = 1\n",
    "ny   = 2\n",
    "nz   = len(vertLine)\n",
    "nt   = 1"
   ]
  },
  {
   "cell_type": "code",
   "execution_count": 6,
   "metadata": {},
   "outputs": [
    {
     "name": "stdout",
     "output_type": "stream",
     "text": [
      "[27.]\n",
      "[0.0, 0.1]\n",
      "[2000]\n"
     ]
    }
   ],
   "source": [
    "x_1d = np.zeros((nx)) + float(x)*D\n",
    "y_1d = [0.0, 0.1]\n",
    "#y_1d = [0.0]\n",
    "z_1d = vertLine['z']\n",
    "t_1d = [2000]\n",
    "print (x_1d)\n",
    "print (y_1d)\n",
    "#print (z_1d)\n",
    "print (t_1d)\n",
    "Ux =  vertLine['V'] # Note that axial direction is along +y\n",
    "Uy = -vertLine['U'] # spanwise is along -x\n",
    "Uz =  vertLine['W']\n",
    "#print (Ux)\n",
    "#print (Uy)\n",
    "#print (Uz)"
   ]
  },
  {
   "cell_type": "code",
   "execution_count": 7,
   "metadata": {
    "collapsed": true
   },
   "outputs": [],
   "source": [
    "U = np.zeros((nt,nx,ny,nz))\n",
    "V = np.zeros((nt,nx,ny,nz))\n",
    "W = np.zeros((nt,nx,ny,nz))"
   ]
  },
  {
   "cell_type": "code",
   "execution_count": 8,
   "metadata": {
    "collapsed": true
   },
   "outputs": [],
   "source": [
    "#print (U[0][0][0])\n",
    "#print (U[0][0][1][1:5])"
   ]
  },
  {
   "cell_type": "code",
   "execution_count": 9,
   "metadata": {},
   "outputs": [
    {
     "name": "stdout",
     "output_type": "stream",
     "text": [
      "[4.43798991 5.04142564 5.34478828 5.55664186]\n",
      "[-0.13753788 -0.13910651 -0.14264782 -0.153765  ]\n",
      "[0.0026592  0.00357352 0.00201449 0.00482396]\n"
     ]
    }
   ],
   "source": [
    "U[0][0][0:ny] = Ux\n",
    "V[0][0][0:ny] = Uy\n",
    "W[0][0][0:ny] = Uz\n",
    "#print (U[0][0][0])\n",
    "print (U[0][0][0][1:5])\n",
    "#print (V[0][0][0])\n",
    "print (V[0][0][0][1:5])\n",
    "#print (W[0][0][0])\n",
    "print (W[0][0][0][1:5])"
   ]
  },
  {
   "cell_type": "code",
   "execution_count": 10,
   "metadata": {},
   "outputs": [
    {
     "name": "stdout",
     "output_type": "stream",
     "text": [
      "Shape of U is (1, 1, 2, 150)\n",
      "Shape of V is (1, 1, 2, 150)\n",
      "Shape of W is (1, 1, 2, 150)\n"
     ]
    }
   ],
   "source": [
    "print(\"Shape of U is {0}\".format(U.shape))\n",
    "print(\"Shape of V is {0}\".format(V.shape))\n",
    "print(\"Shape of W is {0}\".format(W.shape))"
   ]
  },
  {
   "cell_type": "markdown",
   "metadata": {},
   "source": [
    "# Use xarray to create DataArrays, then Dataset"
   ]
  },
  {
   "cell_type": "markdown",
   "metadata": {},
   "source": [
    "### The velocities"
   ]
  },
  {
   "cell_type": "code",
   "execution_count": 11,
   "metadata": {
    "collapsed": true
   },
   "outputs": [],
   "source": [
    "U = xarray.DataArray(data=U, \n",
    "                     dims=(\"t\",\"x\",\"y\",\"z\"), \n",
    "                     coords={\"t\":t_1d,\"x\":x_1d,\"y\":y_1d,\"z\":z_1d}, \n",
    "                     name=\"U\",\n",
    "                     attrs={\"long_name\":\"streamwise wind component\",\"units\":\"m/s\"})"
   ]
  },
  {
   "cell_type": "code",
   "execution_count": 12,
   "metadata": {
    "collapsed": true
   },
   "outputs": [],
   "source": [
    "V = xarray.DataArray(data=V, \n",
    "                     dims=(\"t\",\"x\",\"y\",\"z\"), \n",
    "                     coords={\"t\":t_1d,\"x\":x_1d,\"y\":y_1d,\"z\":z_1d}, \n",
    "                     name=\"V\",\n",
    "                     attrs={\"long_name\":\"cross-stream wind component\",\"units\":\"m/s\"})"
   ]
  },
  {
   "cell_type": "code",
   "execution_count": 13,
   "metadata": {
    "collapsed": true
   },
   "outputs": [],
   "source": [
    "W = xarray.DataArray(data=W, \n",
    "                     dims=(\"t\",\"x\",\"y\",\"z\"), \n",
    "                     coords={\"t\":t_1d,\"x\":x_1d,\"y\":y_1d,\"z\":z_1d}, \n",
    "                     name=\"W\",\n",
    "                     attrs={\"long_name\":\"vertical wind component\",\"units\":\"m/s\"})"
   ]
  },
  {
   "cell_type": "code",
   "execution_count": 14,
   "metadata": {
    "collapsed": true
   },
   "outputs": [],
   "source": [
    "dataset = xarray.Dataset(data_vars={\"U\":U,\"V\":V,\"W\":W})"
   ]
  },
  {
   "cell_type": "code",
   "execution_count": 15,
   "metadata": {},
   "outputs": [
    {
     "name": "stdout",
     "output_type": "stream",
     "text": [
      "<xarray.Dataset>\n",
      "Dimensions:  (t: 1, x: 1, y: 2, z: 150)\n",
      "Coordinates:\n",
      "  * t        (t) int64 2000\n",
      "  * x        (x) float64 27.0\n",
      "  * y        (y) float64 0.0 0.1\n",
      "  * z        (z) float64 0.0 1.342 2.685 4.027 5.369 ... 196.0 197.3 198.7 200.0\n",
      "Data variables:\n",
      "    U        (t, x, y, z) float64 6.095e-13 4.438 5.041 ... 8.437 8.446 8.455\n",
      "    V        (t, x, y, z) float64 -3.732e-29 -0.1375 ... -0.0435 -0.04314\n",
      "    W        (t, x, y, z) float64 0.0 0.002659 0.003574 ... 0.006535 0.006443\n"
     ]
    }
   ],
   "source": [
    "print(dataset)"
   ]
  },
  {
   "cell_type": "markdown",
   "metadata": {},
   "source": [
    "# See what it looks like"
   ]
  },
  {
   "cell_type": "code",
   "execution_count": 16,
   "metadata": {},
   "outputs": [
    {
     "data": {
      "text/plain": [
       "[<matplotlib.lines.Line2D at 0x7fc09762b390>]"
      ]
     },
     "execution_count": 16,
     "metadata": {},
     "output_type": "execute_result"
    },
    {
     "data": {
      "image/png": "[encoded data removed]",
      "text/plain": [
       "<matplotlib.figure.Figure at 0x7fc09f07c320>"
      ]
     },
     "metadata": {},
     "output_type": "display_data"
    }
   ],
   "source": [
    "plt.plot(U.loc[t_1d[0],x_1d[0],y_1d[0],:], z_1d)"
   ]
  },
  {
   "cell_type": "code",
   "execution_count": 17,
   "metadata": {},
   "outputs": [
    {
     "data": {
      "text/plain": [
       "[<matplotlib.lines.Line2D at 0x7fc097544cf8>]"
      ]
     },
     "execution_count": 17,
     "metadata": {},
     "output_type": "execute_result"
    },
    {
     "data": {
      "image/png": "[encoded data removed]",
      "text/plain": [
       "<matplotlib.figure.Figure at 0x7fc0975fefd0>"
      ]
     },
     "metadata": {},
     "output_type": "display_data"
    }
   ],
   "source": [
    "plt.plot(V.loc[t_1d[0],x_1d[0],y_1d[0],:], z_1d)"
   ]
  },
  {
   "cell_type": "code",
   "execution_count": 18,
   "metadata": {},
   "outputs": [
    {
     "data": {
      "text/plain": [
       "[<matplotlib.lines.Line2D at 0x7fc0974b9390>]"
      ]
     },
     "execution_count": 18,
     "metadata": {},
     "output_type": "execute_result"
    },
    {
     "data": {
      "image/png": "[encoded data removed]",
      "text/plain": [
       "<matplotlib.figure.Figure at 0x7fc097530d30>"
      ]
     },
     "metadata": {},
     "output_type": "display_data"
    }
   ],
   "source": [
    "plt.plot(W.loc[t_1d[0],x_1d[0],y_1d[0],:], z_1d)"
   ]
  },
  {
   "cell_type": "code",
   "execution_count": 19,
   "metadata": {},
   "outputs": [
    {
     "data": {
      "text/plain": [
       "<matplotlib.collections.QuadMesh at 0x7fc0974aa080>"
      ]
     },
     "execution_count": 19,
     "metadata": {},
     "output_type": "execute_result"
    },
    {
     "data": {
      "image/png": "[encoded data removed]",
      "text/plain": [
       "<matplotlib.figure.Figure at 0x7fc0a303f2b0>"
      ]
     },
     "metadata": {},
     "output_type": "display_data"
    }
   ],
   "source": [
    "xarray.plot.pcolormesh(U.loc[t_1d[0],x_1d[0],:,:])"
   ]
  },
  {
   "cell_type": "code",
   "execution_count": 20,
   "metadata": {},
   "outputs": [
    {
     "data": {
      "text/plain": [
       "<matplotlib.collections.QuadMesh at 0x7fc0973ea128>"
      ]
     },
     "execution_count": 20,
     "metadata": {},
     "output_type": "execute_result"
    },
    {
     "data": {
      "image/png": "[encoded data removed]",
      "text/plain": [
       "<matplotlib.figure.Figure at 0x7fc097401da0>"
      ]
     },
     "metadata": {},
     "output_type": "display_data"
    }
   ],
   "source": [
    "xarray.plot.pcolormesh(V.loc[t_1d[0],x_1d[0],:,:])"
   ]
  },
  {
   "cell_type": "code",
   "execution_count": 21,
   "metadata": {},
   "outputs": [
    {
     "data": {
      "text/plain": [
       "<matplotlib.collections.QuadMesh at 0x7fc0973163c8>"
      ]
     },
     "execution_count": 21,
     "metadata": {},
     "output_type": "execute_result"
    },
    {
     "data": {
      "image/png": "[encoded data removed]",
      "text/plain": [
       "<matplotlib.figure.Figure at 0x7fc097354198>"
      ]
     },
     "metadata": {},
     "output_type": "display_data"
    }
   ],
   "source": [
    "xarray.plot.pcolormesh(W.loc[t_1d[0],x_1d[0],:,:])"
   ]
  },
  {
   "cell_type": "markdown",
   "metadata": {},
   "source": [
    "# Save as NetCDF"
   ]
  },
  {
   "cell_type": "code",
   "execution_count": 22,
   "metadata": {
    "collapsed": true
   },
   "outputs": [],
   "source": [
    "netcdf_path = os.path.join('../files_submitted','Phase2',ablType,'vertLine')\n",
    "if not os.path.exists(netcdf_path):\n",
    "        os.makedirs(netcdf_path)\n",
    "dataset.to_netcdf(path=os.path.join(netcdf_path,'ENVISION_OXLEY_RANS_20190304_uvw_'+x+'D.nc'),mode='w')"
   ]
  },
  {
   "cell_type": "code",
   "execution_count": null,
   "metadata": {
    "collapsed": true
   },
   "outputs": [],
   "source": []
  }
 ],
 "metadata": {
  "kernelspec": {
   "display_name": "Python 3",
   "language": "python",
   "name": "python3"
  },
  "language_info": {
   "codemirror_mode": {
    "name": "ipython",
    "version": 3
   },
   "file_extension": ".py",
   "mimetype": "text/x-python",
   "name": "python",
   "nbconvert_exporter": "python",
   "pygments_lexer": "ipython3",
   "version": "3.6.3"
  }
 },
 "nbformat": 4,
 "nbformat_minor": 2
}
